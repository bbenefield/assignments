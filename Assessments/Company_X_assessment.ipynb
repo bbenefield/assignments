{
 "cells": [
  {
   "cell_type": "code",
   "execution_count": 211,
   "metadata": {},
   "outputs": [],
   "source": [
    "import pandas as pd\n",
    "import numpy as np\n",
    "import seaborn as sns\n",
    "import matplotlib.pyplot as plt\n",
    "import itertools as it\n",
    "\n",
    "from sklearn.model_selection import train_test_split, KFold\n",
    "from sklearn.metrics import mean_squared_error\n",
    "from sklearn.linear_model import LinearRegression, Lasso\n",
    "from sklearn.ensemble import RandomForestRegressor\n",
    "from sklearn.pipeline import Pipeline\n",
    "\n",
    "from yellowbrick.regressor import PredictionError\n",
    "from yellowbrick.model_selection import ValidationCurve\n",
    "\n",
    "%matplotlib inline"
   ]
  },
  {
   "cell_type": "code",
   "execution_count": 137,
   "metadata": {},
   "outputs": [],
   "source": [
    "fileLoc = 'games.csv'\n",
    "df = pd.read_csv(fileLoc, sep=',')"
   ]
  },
  {
   "cell_type": "code",
   "execution_count": 138,
   "metadata": {},
   "outputs": [
    {
     "data": {
      "text/html": [
       "<div>\n",
       "<style scoped>\n",
       "    .dataframe tbody tr th:only-of-type {\n",
       "        vertical-align: middle;\n",
       "    }\n",
       "\n",
       "    .dataframe tbody tr th {\n",
       "        vertical-align: top;\n",
       "    }\n",
       "\n",
       "    .dataframe thead th {\n",
       "        text-align: right;\n",
       "    }\n",
       "</style>\n",
       "<table border=\"1\" class=\"dataframe\">\n",
       "  <thead>\n",
       "    <tr style=\"text-align: right;\">\n",
       "      <th></th>\n",
       "      <th>id</th>\n",
       "      <th>type</th>\n",
       "      <th>name</th>\n",
       "      <th>yearpublished</th>\n",
       "      <th>minplayers</th>\n",
       "      <th>maxplayers</th>\n",
       "      <th>playingtime</th>\n",
       "      <th>minplaytime</th>\n",
       "      <th>maxplaytime</th>\n",
       "      <th>minage</th>\n",
       "      <th>users_rated</th>\n",
       "      <th>average_rating</th>\n",
       "      <th>bayes_average_rating</th>\n",
       "      <th>total_owners</th>\n",
       "      <th>total_traders</th>\n",
       "      <th>total_wanters</th>\n",
       "      <th>total_wishers</th>\n",
       "      <th>total_comments</th>\n",
       "      <th>total_weights</th>\n",
       "      <th>average_weight</th>\n",
       "    </tr>\n",
       "  </thead>\n",
       "  <tbody>\n",
       "    <tr>\n",
       "      <th>0</th>\n",
       "      <td>12333</td>\n",
       "      <td>boardgame</td>\n",
       "      <td>Twilight Struggle</td>\n",
       "      <td>2005.0</td>\n",
       "      <td>2.0</td>\n",
       "      <td>2.0</td>\n",
       "      <td>180.0</td>\n",
       "      <td>180.0</td>\n",
       "      <td>180.0</td>\n",
       "      <td>13.0</td>\n",
       "      <td>20113</td>\n",
       "      <td>8.33774</td>\n",
       "      <td>8.22186</td>\n",
       "      <td>26647</td>\n",
       "      <td>372</td>\n",
       "      <td>1219</td>\n",
       "      <td>5865</td>\n",
       "      <td>5347</td>\n",
       "      <td>2562</td>\n",
       "      <td>3.4785</td>\n",
       "    </tr>\n",
       "    <tr>\n",
       "      <th>1</th>\n",
       "      <td>120677</td>\n",
       "      <td>boardgame</td>\n",
       "      <td>Terra Mystica</td>\n",
       "      <td>2012.0</td>\n",
       "      <td>2.0</td>\n",
       "      <td>5.0</td>\n",
       "      <td>150.0</td>\n",
       "      <td>60.0</td>\n",
       "      <td>150.0</td>\n",
       "      <td>12.0</td>\n",
       "      <td>14383</td>\n",
       "      <td>8.28798</td>\n",
       "      <td>8.14232</td>\n",
       "      <td>16519</td>\n",
       "      <td>132</td>\n",
       "      <td>1586</td>\n",
       "      <td>6277</td>\n",
       "      <td>2526</td>\n",
       "      <td>1423</td>\n",
       "      <td>3.8939</td>\n",
       "    </tr>\n",
       "    <tr>\n",
       "      <th>2</th>\n",
       "      <td>102794</td>\n",
       "      <td>boardgame</td>\n",
       "      <td>Caverna: The Cave Farmers</td>\n",
       "      <td>2013.0</td>\n",
       "      <td>1.0</td>\n",
       "      <td>7.0</td>\n",
       "      <td>210.0</td>\n",
       "      <td>30.0</td>\n",
       "      <td>210.0</td>\n",
       "      <td>12.0</td>\n",
       "      <td>9262</td>\n",
       "      <td>8.28994</td>\n",
       "      <td>8.06886</td>\n",
       "      <td>12230</td>\n",
       "      <td>99</td>\n",
       "      <td>1476</td>\n",
       "      <td>5600</td>\n",
       "      <td>1700</td>\n",
       "      <td>777</td>\n",
       "      <td>3.7761</td>\n",
       "    </tr>\n",
       "    <tr>\n",
       "      <th>3</th>\n",
       "      <td>25613</td>\n",
       "      <td>boardgame</td>\n",
       "      <td>Through the Ages: A Story of Civilization</td>\n",
       "      <td>2006.0</td>\n",
       "      <td>2.0</td>\n",
       "      <td>4.0</td>\n",
       "      <td>240.0</td>\n",
       "      <td>240.0</td>\n",
       "      <td>240.0</td>\n",
       "      <td>12.0</td>\n",
       "      <td>13294</td>\n",
       "      <td>8.20407</td>\n",
       "      <td>8.05804</td>\n",
       "      <td>14343</td>\n",
       "      <td>362</td>\n",
       "      <td>1084</td>\n",
       "      <td>5075</td>\n",
       "      <td>3378</td>\n",
       "      <td>1642</td>\n",
       "      <td>4.1590</td>\n",
       "    </tr>\n",
       "    <tr>\n",
       "      <th>4</th>\n",
       "      <td>3076</td>\n",
       "      <td>boardgame</td>\n",
       "      <td>Puerto Rico</td>\n",
       "      <td>2002.0</td>\n",
       "      <td>2.0</td>\n",
       "      <td>5.0</td>\n",
       "      <td>150.0</td>\n",
       "      <td>90.0</td>\n",
       "      <td>150.0</td>\n",
       "      <td>12.0</td>\n",
       "      <td>39883</td>\n",
       "      <td>8.14261</td>\n",
       "      <td>8.04524</td>\n",
       "      <td>44362</td>\n",
       "      <td>795</td>\n",
       "      <td>861</td>\n",
       "      <td>5414</td>\n",
       "      <td>9173</td>\n",
       "      <td>5213</td>\n",
       "      <td>3.2943</td>\n",
       "    </tr>\n",
       "  </tbody>\n",
       "</table>\n",
       "</div>"
      ],
      "text/plain": [
       "       id       type                                       name  \\\n",
       "0   12333  boardgame                          Twilight Struggle   \n",
       "1  120677  boardgame                              Terra Mystica   \n",
       "2  102794  boardgame                  Caverna: The Cave Farmers   \n",
       "3   25613  boardgame  Through the Ages: A Story of Civilization   \n",
       "4    3076  boardgame                                Puerto Rico   \n",
       "\n",
       "   yearpublished  minplayers  maxplayers  playingtime  minplaytime  \\\n",
       "0         2005.0         2.0         2.0        180.0        180.0   \n",
       "1         2012.0         2.0         5.0        150.0         60.0   \n",
       "2         2013.0         1.0         7.0        210.0         30.0   \n",
       "3         2006.0         2.0         4.0        240.0        240.0   \n",
       "4         2002.0         2.0         5.0        150.0         90.0   \n",
       "\n",
       "   maxplaytime  minage  users_rated  average_rating  bayes_average_rating  \\\n",
       "0        180.0    13.0        20113         8.33774               8.22186   \n",
       "1        150.0    12.0        14383         8.28798               8.14232   \n",
       "2        210.0    12.0         9262         8.28994               8.06886   \n",
       "3        240.0    12.0        13294         8.20407               8.05804   \n",
       "4        150.0    12.0        39883         8.14261               8.04524   \n",
       "\n",
       "   total_owners  total_traders  total_wanters  total_wishers  total_comments  \\\n",
       "0         26647            372           1219           5865            5347   \n",
       "1         16519            132           1586           6277            2526   \n",
       "2         12230             99           1476           5600            1700   \n",
       "3         14343            362           1084           5075            3378   \n",
       "4         44362            795            861           5414            9173   \n",
       "\n",
       "   total_weights  average_weight  \n",
       "0           2562          3.4785  \n",
       "1           1423          3.8939  \n",
       "2            777          3.7761  \n",
       "3           1642          4.1590  \n",
       "4           5213          3.2943  "
      ]
     },
     "execution_count": 138,
     "metadata": {},
     "output_type": "execute_result"
    }
   ],
   "source": [
    "nRows, nCols = df.shape\n",
    "df.head()"
   ]
  },
  {
   "cell_type": "code",
   "execution_count": 139,
   "metadata": {},
   "outputs": [
    {
     "name": "stdout",
     "output_type": "stream",
     "text": [
      "<class 'pandas.core.frame.DataFrame'>\n",
      "RangeIndex: 81312 entries, 0 to 81311\n",
      "Data columns (total 20 columns):\n",
      "id                      81312 non-null int64\n",
      "type                    81312 non-null object\n",
      "name                    81271 non-null object\n",
      "yearpublished           81309 non-null float64\n",
      "minplayers              81309 non-null float64\n",
      "maxplayers              81309 non-null float64\n",
      "playingtime             81309 non-null float64\n",
      "minplaytime             81309 non-null float64\n",
      "maxplaytime             81309 non-null float64\n",
      "minage                  81309 non-null float64\n",
      "users_rated             81312 non-null int64\n",
      "average_rating          81312 non-null float64\n",
      "bayes_average_rating    81312 non-null float64\n",
      "total_owners            81312 non-null int64\n",
      "total_traders           81312 non-null int64\n",
      "total_wanters           81312 non-null int64\n",
      "total_wishers           81312 non-null int64\n",
      "total_comments          81312 non-null int64\n",
      "total_weights           81312 non-null int64\n",
      "average_weight          81312 non-null float64\n",
      "dtypes: float64(10), int64(8), object(2)\n",
      "memory usage: 12.4+ MB\n"
     ]
    }
   ],
   "source": [
    "df.info(verbose=True)"
   ]
  },
  {
   "cell_type": "code",
   "execution_count": 140,
   "metadata": {},
   "outputs": [],
   "source": [
    "# Separate out my two types of columns\n",
    "categoryCols = ['type','name']\n",
    "numericalCols = np.setdiff1d(df.columns, categoryCols)"
   ]
  },
  {
   "cell_type": "code",
   "execution_count": 141,
   "metadata": {},
   "outputs": [
    {
     "data": {
      "text/plain": [
       "array(['boardgame', 'boardgameexpansion'], dtype=object)"
      ]
     },
     "execution_count": 141,
     "metadata": {},
     "output_type": "execute_result"
    }
   ],
   "source": [
    "# Curious if there was another type\n",
    "df['type'].unique()"
   ]
  },
  {
   "cell_type": "code",
   "execution_count": 142,
   "metadata": {},
   "outputs": [
    {
     "data": {
      "text/html": [
       "<div>\n",
       "<style scoped>\n",
       "    .dataframe tbody tr th:only-of-type {\n",
       "        vertical-align: middle;\n",
       "    }\n",
       "\n",
       "    .dataframe tbody tr th {\n",
       "        vertical-align: top;\n",
       "    }\n",
       "\n",
       "    .dataframe thead th {\n",
       "        text-align: right;\n",
       "    }\n",
       "</style>\n",
       "<table border=\"1\" class=\"dataframe\">\n",
       "  <thead>\n",
       "    <tr style=\"text-align: right;\">\n",
       "      <th></th>\n",
       "      <th>id</th>\n",
       "      <th>yearpublished</th>\n",
       "      <th>minplayers</th>\n",
       "      <th>maxplayers</th>\n",
       "      <th>playingtime</th>\n",
       "      <th>minplaytime</th>\n",
       "      <th>maxplaytime</th>\n",
       "      <th>minage</th>\n",
       "      <th>users_rated</th>\n",
       "      <th>average_rating</th>\n",
       "      <th>bayes_average_rating</th>\n",
       "      <th>total_owners</th>\n",
       "      <th>total_traders</th>\n",
       "      <th>total_wanters</th>\n",
       "      <th>total_wishers</th>\n",
       "      <th>total_comments</th>\n",
       "      <th>total_weights</th>\n",
       "      <th>average_weight</th>\n",
       "    </tr>\n",
       "  </thead>\n",
       "  <tbody>\n",
       "    <tr>\n",
       "      <th>count</th>\n",
       "      <td>81312.000000</td>\n",
       "      <td>81309.000000</td>\n",
       "      <td>81309.000000</td>\n",
       "      <td>81309.000000</td>\n",
       "      <td>81309.000000</td>\n",
       "      <td>81309.000000</td>\n",
       "      <td>81309.000000</td>\n",
       "      <td>81309.000000</td>\n",
       "      <td>81312.000000</td>\n",
       "      <td>81312.000000</td>\n",
       "      <td>81312.000000</td>\n",
       "      <td>81312.000000</td>\n",
       "      <td>81312.000000</td>\n",
       "      <td>81312.000000</td>\n",
       "      <td>81312.000000</td>\n",
       "      <td>81312.000000</td>\n",
       "      <td>81312.000000</td>\n",
       "      <td>81312.000000</td>\n",
       "    </tr>\n",
       "    <tr>\n",
       "      <th>mean</th>\n",
       "      <td>72278.150138</td>\n",
       "      <td>1806.630668</td>\n",
       "      <td>1.992018</td>\n",
       "      <td>5.637703</td>\n",
       "      <td>51.634788</td>\n",
       "      <td>49.276833</td>\n",
       "      <td>51.634788</td>\n",
       "      <td>6.983975</td>\n",
       "      <td>161.886585</td>\n",
       "      <td>4.212144</td>\n",
       "      <td>1.157632</td>\n",
       "      <td>262.502509</td>\n",
       "      <td>9.236423</td>\n",
       "      <td>12.688890</td>\n",
       "      <td>42.719144</td>\n",
       "      <td>49.290031</td>\n",
       "      <td>16.488009</td>\n",
       "      <td>0.908083</td>\n",
       "    </tr>\n",
       "    <tr>\n",
       "      <th>std</th>\n",
       "      <td>58818.237742</td>\n",
       "      <td>588.517834</td>\n",
       "      <td>0.931034</td>\n",
       "      <td>56.076890</td>\n",
       "      <td>345.699969</td>\n",
       "      <td>334.483934</td>\n",
       "      <td>345.699969</td>\n",
       "      <td>5.035138</td>\n",
       "      <td>1145.978126</td>\n",
       "      <td>3.056551</td>\n",
       "      <td>2.340033</td>\n",
       "      <td>1504.536693</td>\n",
       "      <td>39.757408</td>\n",
       "      <td>60.764207</td>\n",
       "      <td>239.292628</td>\n",
       "      <td>284.862853</td>\n",
       "      <td>115.980285</td>\n",
       "      <td>1.176002</td>\n",
       "    </tr>\n",
       "    <tr>\n",
       "      <th>min</th>\n",
       "      <td>1.000000</td>\n",
       "      <td>-3500.000000</td>\n",
       "      <td>0.000000</td>\n",
       "      <td>0.000000</td>\n",
       "      <td>0.000000</td>\n",
       "      <td>0.000000</td>\n",
       "      <td>0.000000</td>\n",
       "      <td>0.000000</td>\n",
       "      <td>0.000000</td>\n",
       "      <td>0.000000</td>\n",
       "      <td>0.000000</td>\n",
       "      <td>0.000000</td>\n",
       "      <td>0.000000</td>\n",
       "      <td>0.000000</td>\n",
       "      <td>0.000000</td>\n",
       "      <td>0.000000</td>\n",
       "      <td>0.000000</td>\n",
       "      <td>0.000000</td>\n",
       "    </tr>\n",
       "    <tr>\n",
       "      <th>25%</th>\n",
       "      <td>21339.750000</td>\n",
       "      <td>1984.000000</td>\n",
       "      <td>2.000000</td>\n",
       "      <td>2.000000</td>\n",
       "      <td>8.000000</td>\n",
       "      <td>10.000000</td>\n",
       "      <td>8.000000</td>\n",
       "      <td>0.000000</td>\n",
       "      <td>0.000000</td>\n",
       "      <td>0.000000</td>\n",
       "      <td>0.000000</td>\n",
       "      <td>1.000000</td>\n",
       "      <td>0.000000</td>\n",
       "      <td>0.000000</td>\n",
       "      <td>0.000000</td>\n",
       "      <td>0.000000</td>\n",
       "      <td>0.000000</td>\n",
       "      <td>0.000000</td>\n",
       "    </tr>\n",
       "    <tr>\n",
       "      <th>50%</th>\n",
       "      <td>43258.000000</td>\n",
       "      <td>2003.000000</td>\n",
       "      <td>2.000000</td>\n",
       "      <td>4.000000</td>\n",
       "      <td>30.000000</td>\n",
       "      <td>30.000000</td>\n",
       "      <td>30.000000</td>\n",
       "      <td>8.000000</td>\n",
       "      <td>2.000000</td>\n",
       "      <td>5.265620</td>\n",
       "      <td>0.000000</td>\n",
       "      <td>7.000000</td>\n",
       "      <td>0.000000</td>\n",
       "      <td>0.000000</td>\n",
       "      <td>1.000000</td>\n",
       "      <td>1.000000</td>\n",
       "      <td>0.000000</td>\n",
       "      <td>0.000000</td>\n",
       "    </tr>\n",
       "    <tr>\n",
       "      <th>75%</th>\n",
       "      <td>128836.500000</td>\n",
       "      <td>2010.000000</td>\n",
       "      <td>2.000000</td>\n",
       "      <td>6.000000</td>\n",
       "      <td>60.000000</td>\n",
       "      <td>60.000000</td>\n",
       "      <td>60.000000</td>\n",
       "      <td>12.000000</td>\n",
       "      <td>16.000000</td>\n",
       "      <td>6.718777</td>\n",
       "      <td>0.000000</td>\n",
       "      <td>51.000000</td>\n",
       "      <td>2.000000</td>\n",
       "      <td>3.000000</td>\n",
       "      <td>7.000000</td>\n",
       "      <td>9.000000</td>\n",
       "      <td>2.000000</td>\n",
       "      <td>1.916700</td>\n",
       "    </tr>\n",
       "    <tr>\n",
       "      <th>max</th>\n",
       "      <td>184451.000000</td>\n",
       "      <td>2018.000000</td>\n",
       "      <td>99.000000</td>\n",
       "      <td>11299.000000</td>\n",
       "      <td>60120.000000</td>\n",
       "      <td>60120.000000</td>\n",
       "      <td>60120.000000</td>\n",
       "      <td>120.000000</td>\n",
       "      <td>53680.000000</td>\n",
       "      <td>10.000000</td>\n",
       "      <td>8.221860</td>\n",
       "      <td>73188.000000</td>\n",
       "      <td>1395.000000</td>\n",
       "      <td>1586.000000</td>\n",
       "      <td>6402.000000</td>\n",
       "      <td>11798.000000</td>\n",
       "      <td>5996.000000</td>\n",
       "      <td>5.000000</td>\n",
       "    </tr>\n",
       "  </tbody>\n",
       "</table>\n",
       "</div>"
      ],
      "text/plain": [
       "                  id  yearpublished    minplayers    maxplayers   playingtime  \\\n",
       "count   81312.000000   81309.000000  81309.000000  81309.000000  81309.000000   \n",
       "mean    72278.150138    1806.630668      1.992018      5.637703     51.634788   \n",
       "std     58818.237742     588.517834      0.931034     56.076890    345.699969   \n",
       "min         1.000000   -3500.000000      0.000000      0.000000      0.000000   \n",
       "25%     21339.750000    1984.000000      2.000000      2.000000      8.000000   \n",
       "50%     43258.000000    2003.000000      2.000000      4.000000     30.000000   \n",
       "75%    128836.500000    2010.000000      2.000000      6.000000     60.000000   \n",
       "max    184451.000000    2018.000000     99.000000  11299.000000  60120.000000   \n",
       "\n",
       "        minplaytime   maxplaytime        minage   users_rated  average_rating  \\\n",
       "count  81309.000000  81309.000000  81309.000000  81312.000000    81312.000000   \n",
       "mean      49.276833     51.634788      6.983975    161.886585        4.212144   \n",
       "std      334.483934    345.699969      5.035138   1145.978126        3.056551   \n",
       "min        0.000000      0.000000      0.000000      0.000000        0.000000   \n",
       "25%       10.000000      8.000000      0.000000      0.000000        0.000000   \n",
       "50%       30.000000     30.000000      8.000000      2.000000        5.265620   \n",
       "75%       60.000000     60.000000     12.000000     16.000000        6.718777   \n",
       "max    60120.000000  60120.000000    120.000000  53680.000000       10.000000   \n",
       "\n",
       "       bayes_average_rating  total_owners  total_traders  total_wanters  \\\n",
       "count          81312.000000  81312.000000   81312.000000   81312.000000   \n",
       "mean               1.157632    262.502509       9.236423      12.688890   \n",
       "std                2.340033   1504.536693      39.757408      60.764207   \n",
       "min                0.000000      0.000000       0.000000       0.000000   \n",
       "25%                0.000000      1.000000       0.000000       0.000000   \n",
       "50%                0.000000      7.000000       0.000000       0.000000   \n",
       "75%                0.000000     51.000000       2.000000       3.000000   \n",
       "max                8.221860  73188.000000    1395.000000    1586.000000   \n",
       "\n",
       "       total_wishers  total_comments  total_weights  average_weight  \n",
       "count   81312.000000    81312.000000   81312.000000    81312.000000  \n",
       "mean       42.719144       49.290031      16.488009        0.908083  \n",
       "std       239.292628      284.862853     115.980285        1.176002  \n",
       "min         0.000000        0.000000       0.000000        0.000000  \n",
       "25%         0.000000        0.000000       0.000000        0.000000  \n",
       "50%         1.000000        1.000000       0.000000        0.000000  \n",
       "75%         7.000000        9.000000       2.000000        1.916700  \n",
       "max      6402.000000    11798.000000    5996.000000        5.000000  "
      ]
     },
     "execution_count": 142,
     "metadata": {},
     "output_type": "execute_result"
    }
   ],
   "source": [
    "df.describe()"
   ]
  },
  {
   "cell_type": "markdown",
   "metadata": {},
   "source": [
    "Interesting, we have a negative year, max of maxplayer sounds a little ridiculous, who wants to play a game that lasts 60120. I'm pretty sure most babies don't have the capacity to play video games."
   ]
  },
  {
   "cell_type": "markdown",
   "metadata": {},
   "source": [
    "## Question 1"
   ]
  },
  {
   "cell_type": "markdown",
   "metadata": {},
   "source": [
    "Assumptions: It appears the main focus is the rating of the board games based on various influencing factors. \n",
    "\n",
    "Information we can get from this data:\n",
    "\n",
    "- Distribution of age of players\n",
    "- Number of games released per year\n",
    "- How does playing time influence rating\n",
    "- Rating of the game for those that own vs those that don't\n",
    "- A potential correlation between game hype vs actual enjoyment based on rating and user's trading.\n",
    "\n",
    "Technically, we can glean some type of information from all of these columns (except id and weights unless I can determine an educated guess on what that column is being used for). It really depends on what information you are trying to determine. Do you want to develop a board game around the ideal playtime length? Do you want to develop a board game for a specific age and what type of games does this age range enjoy?"
   ]
  },
  {
   "cell_type": "markdown",
   "metadata": {},
   "source": [
    "## Question 2"
   ]
  },
  {
   "cell_type": "markdown",
   "metadata": {},
   "source": [
    "That's kind of a trick question. Any model could be built from this data. The worth of the model would be completely dependent on the question you are trying to answer as a company. Two potential models:\n",
    "\n",
    "Classification:\n",
    "- Predict whether a game will be popular (threshold based on average_rating)\n",
    "\n",
    "Regression\n",
    "- Predict the length of a game based on min-max players and typical age range"
   ]
  },
  {
   "cell_type": "code",
   "execution_count": 143,
   "metadata": {},
   "outputs": [
    {
     "data": {
      "text/plain": [
       "id                       0\n",
       "type                     0\n",
       "name                    41\n",
       "yearpublished            3\n",
       "minplayers               3\n",
       "maxplayers               3\n",
       "playingtime              3\n",
       "minplaytime              3\n",
       "maxplaytime              3\n",
       "minage                   3\n",
       "users_rated              0\n",
       "average_rating           0\n",
       "bayes_average_rating     0\n",
       "total_owners             0\n",
       "total_traders            0\n",
       "total_wanters            0\n",
       "total_wishers            0\n",
       "total_comments           0\n",
       "total_weights            0\n",
       "average_weight           0\n",
       "dtype: int64"
      ]
     },
     "execution_count": 143,
     "metadata": {},
     "output_type": "execute_result"
    }
   ],
   "source": [
    "# Let's look at the count of missing data per column\n",
    "df.isnull().sum(axis=0)"
   ]
  },
  {
   "cell_type": "code",
   "execution_count": 144,
   "metadata": {},
   "outputs": [],
   "source": [
    "# Create an array of columns with missing values\n",
    "colMissValues = ['yearpublished','minplayers','maxplayers','playingtime','minplaytime','maxplaytime']"
   ]
  },
  {
   "cell_type": "code",
   "execution_count": 145,
   "metadata": {},
   "outputs": [
    {
     "name": "stdout",
     "output_type": "stream",
     "text": [
      "45972   NaN\n",
      "46057   NaN\n",
      "46537   NaN\n",
      "Name: yearpublished, dtype: float64\n",
      "45972   NaN\n",
      "46057   NaN\n",
      "46537   NaN\n",
      "Name: minplayers, dtype: float64\n",
      "45972   NaN\n",
      "46057   NaN\n",
      "46537   NaN\n",
      "Name: maxplayers, dtype: float64\n",
      "45972   NaN\n",
      "46057   NaN\n",
      "46537   NaN\n",
      "Name: playingtime, dtype: float64\n",
      "45972   NaN\n",
      "46057   NaN\n",
      "46537   NaN\n",
      "Name: minplaytime, dtype: float64\n",
      "45972   NaN\n",
      "46057   NaN\n",
      "46537   NaN\n",
      "Name: maxplaytime, dtype: float64\n"
     ]
    }
   ],
   "source": [
    "# I want to see if the missing values are all in the same rows\n",
    "for col in colMissValues:\n",
    "    print(df[col][df[col].isnull()])"
   ]
  },
  {
   "cell_type": "markdown",
   "metadata": {},
   "source": [
    "Missing information id is the same for all listed columns so we will drop them from our analysis for this particular purpose."
   ]
  },
  {
   "cell_type": "code",
   "execution_count": 146,
   "metadata": {},
   "outputs": [],
   "source": [
    "# Drop rows that have missing values but only in a subset which doesn't include name\n",
    "df.dropna(subset=colMissValues, inplace=True)"
   ]
  },
  {
   "cell_type": "code",
   "execution_count": 147,
   "metadata": {},
   "outputs": [
    {
     "name": "stdout",
     "output_type": "stream",
     "text": [
      "3\n"
     ]
    }
   ],
   "source": [
    "# Verify I didn't delete more than expected\n",
    "print(nRows - df.shape[0])"
   ]
  },
  {
   "cell_type": "code",
   "execution_count": 73,
   "metadata": {},
   "outputs": [
    {
     "data": {
      "image/png": "[encoded data removed]",
      "text/plain": [
       "<Figure size 720x720 with 2 Axes>"
      ]
     },
     "metadata": {
      "needs_background": "light"
     },
     "output_type": "display_data"
    }
   ],
   "source": [
    "# Plot out a feature correlation map \n",
    "corr = df[numericalCols].corr()\n",
    "mask = np.zeros_like(corr)\n",
    "mask[np.triu_indices_from(mask)] = True\n",
    "\n",
    "plt.figure(figsize=(10, 10))\n",
    "ax = sns.heatmap(corr, mask=mask, cmap=\"Blues\", vmax=.3, square=True, annot=True)"
   ]
  },
  {
   "cell_type": "markdown",
   "metadata": {},
   "source": [
    "Large correlation between owners, wanters, wishers, and users_rated which would make sense. Our data is biased towards those that are interested in these types of games and it's hard to rate a game never played. We will leave these in the dataset for now and see how it effects our models."
   ]
  },
  {
   "cell_type": "markdown",
   "metadata": {},
   "source": [
    "## Question 3\n",
    "Let's build a model to predict how popular a game is likely to be based on the data available"
   ]
  },
  {
   "cell_type": "markdown",
   "metadata": {},
   "source": [
    "### Let's clean up our data based on what we learned earlier"
   ]
  },
  {
   "cell_type": "code",
   "execution_count": 148,
   "metadata": {},
   "outputs": [],
   "source": [
    "# Map id to boardname\n",
    "idMap = {}\n",
    "idMap = df['id'].map(df['name'])"
   ]
  },
  {
   "cell_type": "code",
   "execution_count": 149,
   "metadata": {},
   "outputs": [
    {
     "data": {
      "text/plain": [
       "(array([24379.,   606.,  1325.,  3303.,  6687., 12277., 15847., 11737.,\n",
       "         3860.,  1288.]),\n",
       " array([ 0.,  1.,  2.,  3.,  4.,  5.,  6.,  7.,  8.,  9., 10.]),\n",
       " <a list of 10 Patch objects>)"
      ]
     },
     "execution_count": 149,
     "metadata": {},
     "output_type": "execute_result"
    },
    {
     "data": {
      "image/png": "[encoded data removed]",
      "text/plain": [
       "<Figure size 432x288 with 1 Axes>"
      ]
     },
     "metadata": {
      "needs_background": "light"
     },
     "output_type": "display_data"
    }
   ],
   "source": [
    "# Look at distribution of target variables\n",
    "plt.hist(df['average_rating'])"
   ]
  },
  {
   "cell_type": "code",
   "execution_count": 150,
   "metadata": {},
   "outputs": [
    {
     "data": {
      "text/plain": [
       "(array([8.0809e+04, 3.4100e+02, 8.1000e+01, 3.7000e+01, 1.7000e+01,\n",
       "        4.0000e+00, 8.0000e+00, 4.0000e+00, 4.0000e+00, 4.0000e+00]),\n",
       " array([    0.,  5368., 10736., 16104., 21472., 26840., 32208., 37576.,\n",
       "        42944., 48312., 53680.]),\n",
       " <a list of 10 Patch objects>)"
      ]
     },
     "execution_count": 150,
     "metadata": {},
     "output_type": "execute_result"
    },
    {
     "data": {
      "image/png": "[encoded data removed]",
      "text/plain": [
       "<Figure size 432x288 with 1 Axes>"
      ]
     },
     "metadata": {
      "needs_background": "light"
     },
     "output_type": "display_data"
    }
   ],
   "source": [
    "# Look at distribution of the number of user ratings\n",
    "plt.hist(df['users_rated'])"
   ]
  },
  {
   "cell_type": "code",
   "execution_count": 151,
   "metadata": {},
   "outputs": [
    {
     "data": {
      "text/plain": [
       "<matplotlib.axes._subplots.AxesSubplot at 0x2e3170f7588>"
      ]
     },
     "execution_count": 151,
     "metadata": {},
     "output_type": "execute_result"
    },
    {
     "data": {
      "image/png": "[encoded data removed]",
      "text/plain": [
       "<Figure size 432x288 with 1 Axes>"
      ]
     },
     "metadata": {
      "needs_background": "light"
     },
     "output_type": "display_data"
    }
   ],
   "source": [
    "df.boxplot(column=['yearpublished'])"
   ]
  },
  {
   "cell_type": "code",
   "execution_count": 152,
   "metadata": {
    "scrolled": true
   },
   "outputs": [
    {
     "data": {
      "text/plain": [
       "<matplotlib.axes._subplots.AxesSubplot at 0x2e31bf0ed68>"
      ]
     },
     "execution_count": 152,
     "metadata": {},
     "output_type": "execute_result"
    },
    {
     "data": {
      "image/png": "[encoded data removed]",
      "text/plain": [
       "<Figure size 432x288 with 1 Axes>"
      ]
     },
     "metadata": {
      "needs_background": "light"
     },
     "output_type": "display_data"
    }
   ],
   "source": [
    "df.boxplot(column=['maxplaytime'])"
   ]
  },
  {
   "cell_type": "code",
   "execution_count": 153,
   "metadata": {},
   "outputs": [
    {
     "data": {
      "text/plain": [
       "<matplotlib.axes._subplots.AxesSubplot at 0x2e31c609c50>"
      ]
     },
     "execution_count": 153,
     "metadata": {},
     "output_type": "execute_result"
    },
    {
     "data": {
      "image/png": "[encoded data removed]",
      "text/plain": [
       "<Figure size 432x288 with 1 Axes>"
      ]
     },
     "metadata": {
      "needs_background": "light"
     },
     "output_type": "display_data"
    }
   ],
   "source": [
    "df.boxplot(column=['minage'])"
   ]
  },
  {
   "cell_type": "code",
   "execution_count": 207,
   "metadata": {},
   "outputs": [],
   "source": [
    "# Ok, let's put some boundaries on this data\n",
    "\n",
    "# First we need the game to be at least rated\n",
    "dfClean = df[df['users_rated'] > 0]\n",
    "\n",
    "# Let's limit to board games made within the last 75 years (1944)\n",
    "dfClean = dfClean[dfClean['yearpublished']>1944]\n",
    "\n",
    "# Let's limit the max play time to 8 hours, I'm assuming this in minutes so (480)\n",
    "dfClean = dfClean[dfClean['maxplaytime']<480]\n",
    "\n",
    "# Let's make sure the player can at least talk so let's go with a min age of 4\n",
    "dfClean = dfClean[dfClean['minage'] > 4]\n",
    "\n",
    "# Make sure we don't have empty rows\n",
    "dfClean = dfClean.dropna(axis=0)"
   ]
  },
  {
   "cell_type": "code",
   "execution_count": 208,
   "metadata": {},
   "outputs": [],
   "source": [
    "# One hot encode our board type\n",
    "dfTemp = pd.get_dummies(dfClean['type'], prefix='type')\n",
    "dfClean = pd.concat([dfClean, dfTemp], axis=1)\n",
    "dfClean.drop(['type'], axis=1, inplace=True)"
   ]
  },
  {
   "cell_type": "code",
   "execution_count": 209,
   "metadata": {},
   "outputs": [],
   "source": [
    "# Create our features and target\n",
    "X = dfClean.drop(['name', 'average_rating', 'id', 'bayes_average_rating'], axis=1)\n",
    "y = dfClean['average_rating']"
   ]
  },
  {
   "cell_type": "code",
   "execution_count": 210,
   "metadata": {},
   "outputs": [],
   "source": [
    "# Split our data into train and test\n",
    "xTrain, xTest, yTrain, yTest = train_test_split(X, y, test_size=.2, random_state=42)"
   ]
  },
  {
   "cell_type": "markdown",
   "metadata": {},
   "source": [
    "#### Run them all"
   ]
  },
  {
   "cell_type": "code",
   "execution_count": 204,
   "metadata": {},
   "outputs": [],
   "source": [
    "# Quick and dirty way to run multiple models with multiple hyperparams\n",
    "clfHolder = {}\n",
    "\n",
    "clfHolder['Lasso'] = Lasso\n",
    "clfHolder['RFC'] = RandomForestRegressor\n",
    "\n",
    "defaultHypers = {\n",
    "            'Lasso': {\n",
    "                    'alpha': np.arange(0,1,.1)\n",
    "            },\n",
    "            'RFC': {'n_estimators': np.arange(20,100,20),\n",
    "                    'min_samples_leaf': np.arange(1,5,1),\n",
    "                    'min_samples_split': np.arange(2,6,1),\n",
    "                    'n_jobs': [-1],\n",
    "                    }\n",
    "            }"
   ]
  },
  {
   "cell_type": "code",
   "execution_count": 212,
   "metadata": {},
   "outputs": [
    {
     "name": "stdout",
     "output_type": "stream",
     "text": [
      "Running Classifier: Lasso\n"
     ]
    },
    {
     "name": "stderr",
     "output_type": "stream",
     "text": [
      "C:\\Users\\Brett\\Anaconda64\\envs\\ncino\\lib\\site-packages\\ipykernel_launcher.py:29: UserWarning: With alpha=0, this algorithm does not converge well. You are advised to use the LinearRegression estimator\n",
      "C:\\Users\\Brett\\Anaconda64\\envs\\ncino\\lib\\site-packages\\sklearn\\linear_model\\coordinate_descent.py:475: UserWarning: Coordinate descent with no regularization may lead to unexpected results and is discouraged.\n",
      "  positive)\n",
      "C:\\Users\\Brett\\Anaconda64\\envs\\ncino\\lib\\site-packages\\sklearn\\linear_model\\coordinate_descent.py:475: ConvergenceWarning: Objective did not converge. You might want to increase the number of iterations. Duality gap: 24100.79629760227, tolerance: 6.89056058281083\n",
      "  positive)\n"
     ]
    },
    {
     "name": "stdout",
     "output_type": "stream",
     "text": [
      "RMSE: 1.2426558328878266\n",
      "RMSE: 1.278811860121163\n",
      "RMSE: 1.2976332481940178\n",
      "RMSE: 1.3180671297115854\n",
      "RMSE: 1.3231146773782319\n",
      "RMSE: 1.328163483553486\n",
      "RMSE: 1.3343962624321162\n",
      "RMSE: 1.3372559379138085\n",
      "RMSE: 1.3379541357001306\n",
      "RMSE: 1.338695615495281\n",
      "Running Classifier: RFC\n",
      "RMSE: 1.1151068109526592\n",
      "RMSE: 1.1046071037398457\n",
      "RMSE: 1.1161610423201953\n",
      "RMSE: 1.1058098304506252\n",
      "RMSE: 1.0956176839063558\n",
      "RMSE: 1.1030108770651839\n",
      "RMSE: 1.1128519686573035\n",
      "RMSE: 1.1070421343877423\n",
      "RMSE: 1.0997743474671808\n",
      "RMSE: 1.0976592396790221\n",
      "RMSE: 1.0972543191767665\n",
      "RMSE: 1.09508026806996\n",
      "RMSE: 1.0905415157417804\n",
      "RMSE: 1.0984720711334588\n",
      "RMSE: 1.091564516052873\n",
      "RMSE: 1.0965182190607916\n",
      "RMSE: 1.099390338895507\n",
      "RMSE: 1.09397417163451\n",
      "RMSE: 1.0954007708469389\n",
      "RMSE: 1.0942346742844153\n",
      "RMSE: 1.092833278510365\n",
      "RMSE: 1.0869926482911056\n",
      "RMSE: 1.0893812020375377\n",
      "RMSE: 1.0919733740671826\n",
      "RMSE: 1.0867444283582308\n",
      "RMSE: 1.0845855957463932\n",
      "RMSE: 1.0888653765176572\n",
      "RMSE: 1.0871386711019713\n",
      "RMSE: 1.0852329240959926\n",
      "RMSE: 1.0886187737763606\n",
      "RMSE: 1.0874720419450898\n",
      "RMSE: 1.0847675575259026\n",
      "RMSE: 1.0931526162694303\n",
      "RMSE: 1.0918407598160484\n",
      "RMSE: 1.0920760648960963\n",
      "RMSE: 1.0921223480110154\n",
      "RMSE: 1.0897041083885608\n",
      "RMSE: 1.0858414796816975\n",
      "RMSE: 1.0856726468579936\n",
      "RMSE: 1.087081718869961\n",
      "RMSE: 1.0830579270933898\n",
      "RMSE: 1.0851453767811423\n",
      "RMSE: 1.0821551801262095\n",
      "RMSE: 1.0846317679370494\n",
      "RMSE: 1.0825952692962466\n",
      "RMSE: 1.0828765332607067\n",
      "RMSE: 1.083373929658476\n",
      "RMSE: 1.0815438688853916\n",
      "RMSE: 1.0913713493610857\n",
      "RMSE: 1.0878738289731127\n",
      "RMSE: 1.0896032999186664\n",
      "RMSE: 1.085249933319542\n",
      "RMSE: 1.0852803757511034\n",
      "RMSE: 1.085596869382896\n",
      "RMSE: 1.088483128417785\n",
      "RMSE: 1.087500401025181\n",
      "RMSE: 1.0814097626606467\n",
      "RMSE: 1.0827475251960914\n",
      "RMSE: 1.08250488879683\n",
      "RMSE: 1.0817732921314789\n",
      "RMSE: 1.0816131538750573\n",
      "RMSE: 1.0824778320194992\n",
      "RMSE: 1.0807133477774389\n",
      "RMSE: 1.0802764333488668\n",
      "RandomForestRegressor(bootstrap=True, criterion='mse', max_depth=None,\n",
      "                      max_features='auto', max_leaf_nodes=None,\n",
      "                      min_impurity_decrease=0.0, min_impurity_split=None,\n",
      "                      min_samples_leaf=4, min_samples_split=5,\n",
      "                      min_weight_fraction_leaf=0.0, n_estimators=80, n_jobs=-1,\n",
      "                      oob_score=False, random_state=None, verbose=0,\n",
      "                      warm_start=False)\n"
     ]
    }
   ],
   "source": [
    "bestResult = None\n",
    "\n",
    "# Convert hyperparameters into value I can pass into model\n",
    "def getHyperPermutations(clfName):\n",
    "    tmpHyper = defaultHypers[clfName]\n",
    "\n",
    "    # Credit: https://stackoverflow.com/questions/5228158/cartesian-product-of-a-dictionary-of-lists\n",
    "    keys = tmpHyper.keys()\n",
    "    vals = tmpHyper.values()\n",
    "    for instance in it.product(*vals):\n",
    "        yield dict(zip(keys, instance))\n",
    "\n",
    "bestScore = 1000\n",
    "\n",
    "# Loop through each model and hyperparam settings\n",
    "for clfName in clfHolder.keys():\n",
    "    print(f\"Running Classifier: {clfName}\")\n",
    "\n",
    "    clfType = clfHolder[clfName]\n",
    "\n",
    "    hyperPermutations = list(getHyperPermutations(clfName))\n",
    "\n",
    "    for paramIdx, permutation in enumerate(hyperPermutations):\n",
    "        rmse = -1\n",
    "\n",
    "        clf = clfType(**permutation)\n",
    "\n",
    "        # Sanity check that this regressor will even work\n",
    "        try:\n",
    "            clf.fit(xTrain, yTrain)\n",
    "            yHat = clf.predict(xTest)\n",
    "            \n",
    "            rmse = np.sqrt(mean_squared_error(yHat, yTest))\n",
    "\n",
    "        except Exception as e:\n",
    "            print(f\"Classifier {clf} failed with the following error:\\n{e}\\nResuming Search.\")\n",
    "\n",
    "        print(f\"RMSE: {rmse}\")\n",
    "\n",
    "        if rmse < bestScore:\n",
    "            bestResult = clf\n",
    "                \n",
    "print(f\"{bestResult}\")"
   ]
  },
  {
   "cell_type": "markdown",
   "metadata": {},
   "source": [
    "As expected, random forest did the best. It's my go-to for most simple models."
   ]
  },
  {
   "cell_type": "code",
   "execution_count": 220,
   "metadata": {},
   "outputs": [
    {
     "name": "stdout",
     "output_type": "stream",
     "text": [
      "RMSE: 1.0827378882098793\n",
      "Feature Importance Values: [0.214155   0.01280107 0.04626915 0.01988044 0.02729149 0.02008903\n",
      " 0.04799332 0.0438014  0.07606734 0.0436259  0.04738572 0.19675359\n",
      " 0.03597364 0.01300586 0.07825272 0.03385093 0.04280339]\n"
     ]
    }
   ],
   "source": [
    "rf = RandomForestRegressor(bootstrap=True, criterion='mse', max_depth=None,\n",
    "                      max_features='auto', max_leaf_nodes=None,\n",
    "                      min_impurity_decrease=0.0, min_impurity_split=None,\n",
    "                      min_samples_leaf=4, min_samples_split=5,\n",
    "                      min_weight_fraction_leaf=0.0, n_estimators=80, n_jobs=-1,\n",
    "                      oob_score=False, random_state=None, verbose=0,\n",
    "                      warm_start=False)\n",
    "\n",
    "rf.fit(xTrain, yTrain)\n",
    "yHat = rf.predict(xTest)\n",
    "rmse = np.sqrt(mean_squared_error(yHat, yTest))\n",
    "print(f\"RMSE: {rmse}\")\n",
    "print(f\"Feature Importance Values: {rf.feature_importances_}\")"
   ]
  },
  {
   "cell_type": "code",
   "execution_count": 221,
   "metadata": {},
   "outputs": [
    {
     "data": {
      "text/html": [
       "<div>\n",
       "<style scoped>\n",
       "    .dataframe tbody tr th:only-of-type {\n",
       "        vertical-align: middle;\n",
       "    }\n",
       "\n",
       "    .dataframe tbody tr th {\n",
       "        vertical-align: top;\n",
       "    }\n",
       "\n",
       "    .dataframe thead th {\n",
       "        text-align: right;\n",
       "    }\n",
       "</style>\n",
       "<table border=\"1\" class=\"dataframe\">\n",
       "  <thead>\n",
       "    <tr style=\"text-align: right;\">\n",
       "      <th></th>\n",
       "      <th>yearpublished</th>\n",
       "      <th>minplayers</th>\n",
       "      <th>maxplayers</th>\n",
       "      <th>playingtime</th>\n",
       "      <th>minplaytime</th>\n",
       "      <th>maxplaytime</th>\n",
       "      <th>minage</th>\n",
       "      <th>users_rated</th>\n",
       "      <th>total_owners</th>\n",
       "      <th>total_traders</th>\n",
       "      <th>total_wanters</th>\n",
       "      <th>total_wishers</th>\n",
       "      <th>total_comments</th>\n",
       "      <th>total_weights</th>\n",
       "      <th>average_weight</th>\n",
       "      <th>type_boardgame</th>\n",
       "      <th>type_boardgameexpansion</th>\n",
       "    </tr>\n",
       "  </thead>\n",
       "  <tbody>\n",
       "    <tr>\n",
       "      <th>0</th>\n",
       "      <td>2005.0</td>\n",
       "      <td>2.0</td>\n",
       "      <td>2.0</td>\n",
       "      <td>180.0</td>\n",
       "      <td>180.0</td>\n",
       "      <td>180.0</td>\n",
       "      <td>13.0</td>\n",
       "      <td>20113</td>\n",
       "      <td>26647</td>\n",
       "      <td>372</td>\n",
       "      <td>1219</td>\n",
       "      <td>5865</td>\n",
       "      <td>5347</td>\n",
       "      <td>2562</td>\n",
       "      <td>3.4785</td>\n",
       "      <td>1</td>\n",
       "      <td>0</td>\n",
       "    </tr>\n",
       "    <tr>\n",
       "      <th>1</th>\n",
       "      <td>2012.0</td>\n",
       "      <td>2.0</td>\n",
       "      <td>5.0</td>\n",
       "      <td>150.0</td>\n",
       "      <td>60.0</td>\n",
       "      <td>150.0</td>\n",
       "      <td>12.0</td>\n",
       "      <td>14383</td>\n",
       "      <td>16519</td>\n",
       "      <td>132</td>\n",
       "      <td>1586</td>\n",
       "      <td>6277</td>\n",
       "      <td>2526</td>\n",
       "      <td>1423</td>\n",
       "      <td>3.8939</td>\n",
       "      <td>1</td>\n",
       "      <td>0</td>\n",
       "    </tr>\n",
       "    <tr>\n",
       "      <th>2</th>\n",
       "      <td>2013.0</td>\n",
       "      <td>1.0</td>\n",
       "      <td>7.0</td>\n",
       "      <td>210.0</td>\n",
       "      <td>30.0</td>\n",
       "      <td>210.0</td>\n",
       "      <td>12.0</td>\n",
       "      <td>9262</td>\n",
       "      <td>12230</td>\n",
       "      <td>99</td>\n",
       "      <td>1476</td>\n",
       "      <td>5600</td>\n",
       "      <td>1700</td>\n",
       "      <td>777</td>\n",
       "      <td>3.7761</td>\n",
       "      <td>1</td>\n",
       "      <td>0</td>\n",
       "    </tr>\n",
       "    <tr>\n",
       "      <th>3</th>\n",
       "      <td>2006.0</td>\n",
       "      <td>2.0</td>\n",
       "      <td>4.0</td>\n",
       "      <td>240.0</td>\n",
       "      <td>240.0</td>\n",
       "      <td>240.0</td>\n",
       "      <td>12.0</td>\n",
       "      <td>13294</td>\n",
       "      <td>14343</td>\n",
       "      <td>362</td>\n",
       "      <td>1084</td>\n",
       "      <td>5075</td>\n",
       "      <td>3378</td>\n",
       "      <td>1642</td>\n",
       "      <td>4.1590</td>\n",
       "      <td>1</td>\n",
       "      <td>0</td>\n",
       "    </tr>\n",
       "    <tr>\n",
       "      <th>4</th>\n",
       "      <td>2002.0</td>\n",
       "      <td>2.0</td>\n",
       "      <td>5.0</td>\n",
       "      <td>150.0</td>\n",
       "      <td>90.0</td>\n",
       "      <td>150.0</td>\n",
       "      <td>12.0</td>\n",
       "      <td>39883</td>\n",
       "      <td>44362</td>\n",
       "      <td>795</td>\n",
       "      <td>861</td>\n",
       "      <td>5414</td>\n",
       "      <td>9173</td>\n",
       "      <td>5213</td>\n",
       "      <td>3.2943</td>\n",
       "      <td>1</td>\n",
       "      <td>0</td>\n",
       "    </tr>\n",
       "  </tbody>\n",
       "</table>\n",
       "</div>"
      ],
      "text/plain": [
       "   yearpublished  minplayers  maxplayers  playingtime  minplaytime  \\\n",
       "0         2005.0         2.0         2.0        180.0        180.0   \n",
       "1         2012.0         2.0         5.0        150.0         60.0   \n",
       "2         2013.0         1.0         7.0        210.0         30.0   \n",
       "3         2006.0         2.0         4.0        240.0        240.0   \n",
       "4         2002.0         2.0         5.0        150.0         90.0   \n",
       "\n",
       "   maxplaytime  minage  users_rated  total_owners  total_traders  \\\n",
       "0        180.0    13.0        20113         26647            372   \n",
       "1        150.0    12.0        14383         16519            132   \n",
       "2        210.0    12.0         9262         12230             99   \n",
       "3        240.0    12.0        13294         14343            362   \n",
       "4        150.0    12.0        39883         44362            795   \n",
       "\n",
       "   total_wanters  total_wishers  total_comments  total_weights  \\\n",
       "0           1219           5865            5347           2562   \n",
       "1           1586           6277            2526           1423   \n",
       "2           1476           5600            1700            777   \n",
       "3           1084           5075            3378           1642   \n",
       "4            861           5414            9173           5213   \n",
       "\n",
       "   average_weight  type_boardgame  type_boardgameexpansion  \n",
       "0          3.4785               1                        0  \n",
       "1          3.8939               1                        0  \n",
       "2          3.7761               1                        0  \n",
       "3          4.1590               1                        0  \n",
       "4          3.2943               1                        0  "
      ]
     },
     "execution_count": 221,
     "metadata": {},
     "output_type": "execute_result"
    }
   ],
   "source": [
    "X.head()"
   ]
  },
  {
   "cell_type": "code",
   "execution_count": 226,
   "metadata": {},
   "outputs": [
    {
     "data": {
      "text/plain": [
       "[<matplotlib.lines.Line2D at 0x2e323f9d208>]"
      ]
     },
     "execution_count": 226,
     "metadata": {},
     "output_type": "execute_result"
    },
    {
     "data": {
      "image/png": "[encoded data removed]",
      "text/plain": [
       "<Figure size 432x288 with 1 Axes>"
      ]
     },
     "metadata": {
      "needs_background": "light"
     },
     "output_type": "display_data"
    }
   ],
   "source": [
    "# let's look at the important features\n",
    "plt.plot(np.arange(0,len(X.columns)), rf.feature_importances_)"
   ]
  },
  {
   "cell_type": "markdown",
   "metadata": {},
   "source": [
    "It appears the most importance features in predicting the average_rating is the year published and number of people wanting the game."
   ]
  },
  {
   "cell_type": "markdown",
   "metadata": {},
   "source": [
    "## Question 4"
   ]
  },
  {
   "cell_type": "code",
   "execution_count": 231,
   "metadata": {},
   "outputs": [],
   "source": [
    "# The ugliest possible way to implement random sampling for 10 Kfold\n",
    "# I know I should have used KFold but I needed to convert my dataframe into a numpy array for indexes\n",
    "# to work correctly so this was the lesser of two evils.\n",
    "scores = []\n",
    "\n",
    "for x in np.arange(1,10):\n",
    "    # Split our data into train and test\n",
    "    xTrain, xTest, yTrain, yTest = train_test_split(X, y, test_size=.2)\n",
    "    \n",
    "    rf.fit(xTrain, yTrain)\n",
    "    yHat = rf.predict(xTest)\n",
    "    rmse = np.sqrt(mean_squared_error(yHat, yTest))\n",
    "    scores.append(rmse)"
   ]
  },
  {
   "cell_type": "code",
   "execution_count": 233,
   "metadata": {},
   "outputs": [
    {
     "name": "stdout",
     "output_type": "stream",
     "text": [
      "10 KFold Cross Validation: 1.0797866057895926\n"
     ]
    }
   ],
   "source": [
    "print(f\"10 KFold Cross Validation: {np.mean(scores)}\")"
   ]
  },
  {
   "cell_type": "markdown",
   "metadata": {},
   "source": [
    "Based on the number above, I would expect the model to perform with a RMSE of 1.08"
   ]
  },
  {
   "cell_type": "markdown",
   "metadata": {},
   "source": [
    "## Question 5"
   ]
  },
  {
   "cell_type": "markdown",
   "metadata": {},
   "source": [
    "Unsure, I would have to spend more time with the data."
   ]
  },
  {
   "cell_type": "code",
   "execution_count": null,
   "metadata": {},
   "outputs": [],
   "source": []
  }
 ],
 "metadata": {
  "kernelspec": {
   "display_name": "Python 3 (ipykernel)",
   "language": "python",
   "name": "python3"
  },
  "language_info": {
   "codemirror_mode": {
    "name": "ipython",
    "version": 3
   },
   "file_extension": ".py",
   "mimetype": "text/x-python",
   "name": "python",
   "nbconvert_exporter": "python",
   "pygments_lexer": "ipython3",
   "version": "3.8.12"
  }
 },
 "nbformat": 4,
 "nbformat_minor": 2
}
