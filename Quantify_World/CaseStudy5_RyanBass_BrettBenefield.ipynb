{
 "cells": [
  {
   "cell_type": "markdown",
   "metadata": {},
   "source": [
    "# <span align=\"center\">Quantifying The World Case Study Unit 10 - Missing Data Imputation</span>\n",
    "### <span align=\"right\">Ryan Bass and Brett Benefield </span>\n",
    "### <span align=\"right\">March 21, 2019</span>\n",
    "\n",
    "# Introduction\n",
    "\n",
    "A common misconception outside of the Data Science profession is that in any given dataset the data is perfect. It has no missing values, how the information is encoded is clear and concise, and no additional work needs to be done. In reality, this is never the case. Data will be missing, inaccurate, and often compiled from many different sources. There can be variables where nearly all of the data is missing. The question now becomes, how do we best deal with this missing data? It is the work of the Data Scientist to explore the data and determine how best to handle the missing data. This step is known as imputation. This might include working closely with a Subject Matter Expert (SME), using statical analysis on the data to replace with a likely answer, removing rows of data with missing values, or even a best guess.\n",
    "\n",
    "In the procedures and analysis performed below, we will explore the consequences of removing data from a dataset, imputing new values, and assessing the performance of a linear regression model compared to a baseline model where all values are known.\n",
    "\n",
    "# Methods\n",
    "\n",
    "### Missing Data\n",
    "\n",
    "In order to deal with missing data, it is important to understand how the data is missing.\n",
    "\n",
    "There are three categories of missing data:\n",
    "\n",
    "- Missing Completely at Random (MCAR)\n",
    "- Missing at Random (MAR)\n",
    "- Missing not at Random (MNAR)\n",
    "\n",
    "#### Missing Completely at Random\n",
    "In this category, there appears to be no discernable pattern to the missing data. From a statistical point of view, it is as equally likely that the data is recorded as it is missing.\n",
    "\n",
    "#### Missing at Random\n",
    "In this category, it appears that the data is missing to a specific subset of data; however, within that subset, it is as equally likely that the data is recorded as it is missing.\n",
    "\n",
    "#### Missing Not at Random\n",
    "In this category, there is a discernable pattern to the missing data.\n",
    "\n",
    "### Imputation\n",
    "\n",
    "Once it is determined how the data is missing, one or more methods below can be employed.\n",
    "\n",
    "There are four common ways to impute missing data:\n",
    "\n",
    "- Listwise Deletion\n",
    "- Pairwise Deletion\n",
    "- Single Imputation\n",
    "- Hot Deck\n",
    "\n",
    "#### Listwise Deletion\n",
    "The listwise deletion method drops any row that has any missing data. This method should almost never be used. While removing the row removes the issue of missing data, it also deletes valuable data that can be used for other analysis. Data should be treated as sacred.\n",
    "\n",
    "#### Pairwise Deletion\n",
    "The pairwise method involves omitting a row of data if a value is missing in a given column(s), but keeping that row for analysis on other columns. This option is better than listwise deletion but care must be used if the percentage of missing values in the different columns are significantly different.\n",
    "\n",
    "#### Single Imputation\n",
    "The single imputation method tries to leverage patterns within the data to impute a likely value. Using this method, other columns of data are considered. If the non-missing values in a column follow a trend based on another column then that other column can be used to impute a value for the remaining missing values.\n",
    "\n",
    "#### Hot Deck\n",
    "The hot deck method takes single imputation a step further. This method again looks for patterns or trends in other columns to help impute the missing values. However, a better guess might be dependent on a subset of another column(s) of data. In this case, instead of using a general trend across a column, we subset the data and determine sub-trend between the columns.\n",
    "\n",
    "### Loss Function\n",
    "\n",
    "We will be utilizing the common regression loss function root mean squared error (RMSE). RMSE measures the square root of the differences between all of the prediction's and their actual observations squared and summed. We chose this over mean absolute error (MAE) because RMSE penalizes outliers more than MAE does. The formula for RMSE can be found here:\n",
    "\n",
    "$ RMSE = \\sqrt{\\frac{1}{n}\\sum_{j=1}^n(y_j-\\hat{y_j})^2} $\n",
    "\n",
    "### Dataset \n",
    "\n",
    "To explore the use of imputation and the effect on our models we will be using the Boston dataset provided by the scikit-learn library. This dataset was taken from the StatLib library which is maintained at Carnegie Mellon University.The Boston dataset consists of housing prices for various housing in the Boston area. The dataset also includes extra attributes defined in the table below. We will be focusing on predicting the value of the MEDV column. This column represents the median value of owner-occupied homes in \\\\$1,000s."
   ]
  },
  {
   "cell_type": "markdown",
   "metadata": {},
   "source": [
    "| Column Name |                              Description                              |\n",
    "|-------------|:---------------------------------------------------------------------:|\n",
    "| CRIM        | per capita crime rate by town                                         |\n",
    "| ZN          | proportion of residential land zoned for lots over 25,000 sq.ft.      |\n",
    "| INDUS       | proportion of non-retail business acres per town                      |\n",
    "| CHAS        | Charles River dummy variable (= 1 if tract bounds river; 0 otherwise) |\n",
    "| NOX         | nitric oxides concentration (parts per 10 million)                    |\n",
    "| RM          | average number of rooms per dwelling                                  |\n",
    "| AGE         | proportion of owner-occupied units built prior to 1940                |\n",
    "| DIS         | weighted distances to five Boston employment centres                  |\n",
    "| RAD         | index of accessibility to radial highways                             |\n",
    "| TAX         | full-value property-tax rate per \\\\$10,000                            |\n",
    "| PTRATIO     | pupil-teacher ratio by town                                           |\n",
    "| B           | 1000(Bk - 0.63)^2 where Bk is the proportion of blacks by town        |\n",
    "| LSTAT       | Percentage lower status of the population                             |\n",
    "| MEDV        | Median value of owner-occupied homes in \\\\$1,000's                    |"
   ]
  },
  {
   "cell_type": "markdown",
   "metadata": {},
   "source": [
    "Table 1 - Attributes in the Boston Housing dataset"
   ]
  },
  {
   "cell_type": "markdown",
   "metadata": {},
   "source": [
    "### Models\n",
    "\n",
    "#### Baseline Model\n",
    "\n",
    "To establish a baseline we will train a linear regression model on all features with no missing values. We will hold back 20% of the data to use as our test set and all remaining data as our training set. This will allow us to assess the impact on imputing missing values in various models with data missing based on the three categories defined above (MCAR, MAR, MNAR). We will use the Root Mean Squared Error (RMSE) to assess the performance of our models.\n",
    "\n",
    "|     Model    | RMSE |\n",
    "|:------------:|------|\n",
    "| Training_Set | 4.66 |\n",
    "| Test_Set     | 4.87 |"
   ]
  },
  {
   "cell_type": "markdown",
   "metadata": {},
   "source": [
    "Table 2 - Baseline Linear Regression Model Performance"
   ]
  },
  {
   "cell_type": "markdown",
   "metadata": {},
   "source": [
    "#### Missing Completely At Random (MCAR) Model\n",
    "\n",
    "With our baseline established, we will begin to explore the various types of missing data. The first type of missing data is Missing Completely at Random (MCAR). To simulate this, we randomly sample rows from the AGE column and replace the value with the value python uses for missing data, NaN (Not a Number). The number of rows is dependent on the percentage of values we want to simulate as missing. The missing values range from 1 to 50%. Next, we replace all values that are missing and replace it with the mean value for the remaining data in the AGE column. The performance of each model as shown below."
   ]
  },
  {
   "cell_type": "code",
   "execution_count": 20,
   "metadata": {},
   "outputs": [
    {
     "data": {
      "image/png": "[encoded data removed]",
      "text/plain": [
       "<Figure size 432x288 with 1 Axes>"
      ]
     },
     "metadata": {},
     "output_type": "display_data"
    }
   ],
   "source": [
    "plotMCAR()"
   ]
  },
  {
   "cell_type": "markdown",
   "metadata": {},
   "source": [
    "Figure 1 - Model Performance with Various Percentage of MCAR Data and Imputation"
   ]
  },
  {
   "cell_type": "markdown",
   "metadata": {},
   "source": [
    "| Percentage (%) | Training Set RMSE | Test Set RMSE |\n",
    "|----------------|-------------------|---------------|\n",
    "| 1              |              4.66 |          4.86 |\n",
    "| 5              |              4.66 |          4.85 |\n",
    "| 10             |              4.66 |          4.85 |\n",
    "| 20             |              4.66 |          4.86 |\n",
    "| 33             |              4.66 |          4.86 |\n",
    "| 50             |              4.66 |          4.85 |"
   ]
  },
  {
   "cell_type": "markdown",
   "metadata": {},
   "source": [
    "Table 3: Model Performance with Various Percentage of MCAR Data and Imputation"
   ]
  },
  {
   "cell_type": "markdown",
   "metadata": {},
   "source": [
    "#### Missing At Random (MAR) Model\n",
    "\n",
    "The next type of missing data is Missing at Random (MAR). To simulate this situation, we select all rows that have an AGE value greater than 80. From this subset of data, we randomly select rows and replace the TAX or CRIM value with NaN. We do this with the percentage of data missing from 10 to 30%. We then replace the NaN values with the mean value of that column on the remaining data. The performance of each model can be seen below. "
   ]
  },
  {
   "cell_type": "code",
   "execution_count": 21,
   "metadata": {},
   "outputs": [
    {
     "data": {
      "image/png": "[encoded data removed]",
      "text/plain": [
       "<Figure size 432x288 with 1 Axes>"
      ]
     },
     "metadata": {},
     "output_type": "display_data"
    }
   ],
   "source": [
    "plotMAR()"
   ]
  },
  {
   "cell_type": "markdown",
   "metadata": {},
   "source": [
    "Figure 2 - Model Performance with Various Percentage of MAR Data and Imputation"
   ]
  },
  {
   "cell_type": "markdown",
   "metadata": {},
   "source": [
    "| Percentage (%) | Training Set RMSE | Test Set RMSE |\n",
    "|----------------|-------------------|---------------|\n",
    "| 10             |              4.68 |          5.01 |\n",
    "| 20             |              4.70 |          5.04 |\n",
    "| 30             |              4.70 |          4.88 |"
   ]
  },
  {
   "cell_type": "markdown",
   "metadata": {},
   "source": [
    "Table 4 - Model Performance with Various Percentage of MAR Data and Imputation"
   ]
  },
  {
   "cell_type": "markdown",
   "metadata": {},
   "source": [
    "#### Missing Not At Random (MNAR) Model\n",
    "\n",
    "Finally we simulate Missing Not at Random (MNAR) data. To simulate this situation, we select all rows between the 25th and 50th quartile and replace the AGE values with NaN. Again we replace the NaN values with the mean value of the AGE column of the remaining data. The performance of the model is shown below."
   ]
  },
  {
   "cell_type": "code",
   "execution_count": 22,
   "metadata": {},
   "outputs": [
    {
     "data": {
      "image/png": "[encoded data removed]",
      "text/plain": [
       "<Figure size 432x288 with 1 Axes>"
      ]
     },
     "metadata": {},
     "output_type": "display_data"
    }
   ],
   "source": [
    "plotMNAR()"
   ]
  },
  {
   "cell_type": "markdown",
   "metadata": {},
   "source": [
    "Figure 3 - Model Performance with 24.90% of MNAR Data and Imputation"
   ]
  },
  {
   "cell_type": "markdown",
   "metadata": {},
   "source": [
    "| Percentage (%) | Training Set RMSE | Test Set RMSE |\n",
    "|----------------|-------------------|---------------|\n",
    "| 24.90          |              4.66 |          4.87 |"
   ]
  },
  {
   "cell_type": "markdown",
   "metadata": {},
   "source": [
    "Table 5 - Model Performance with 24.90% of MNAR Data and Imputation"
   ]
  },
  {
   "cell_type": "markdown",
   "metadata": {},
   "source": [
    "# Results\n",
    "When comparing to the baseline linear regression model (Table 6) we found that data that is missing completely at random (MCAR) has very little effect on the model's error when imputed with the columns mean. This holds true from imputing 1% to 50% of the data.  Missing at random (MAR) does have the most significant impact of the methods of missing data. The most significant impact was with imputing 10% and 20% of the data with the mean by it adding 0.14 and 0.17 RMSE respectively when compared to the baseline model. When we imputed 30% of the data with the remaining means it actually improved the RMSE compared to the baseline model. Future further analysis should confirm this by alternating random_state seeds to confirm or reject this reproducibility. Lastly, missing not at random (MNAR) data by imputing the remaining mean of 25% of the data yielded the same RMSE as the baseline model."
   ]
  },
  {
   "cell_type": "markdown",
   "metadata": {},
   "source": [
    "| Missing Data Type | Percentage of Data Imputed (%) | Delta to Baseline (RMSE) |\n",
    "|-------------------|----------------|--------------|\n",
    "| MCAR              | 1              |         0.01 |\n",
    "| MCAR              | 5              |         0.02 |\n",
    "| MCAR              | 10             |         0.02 |\n",
    "| MCAR              | 20             |         0.01 |\n",
    "| MCAR              | 33             |         0.01 |\n",
    "| MCAR              | 50             |         0.02 |\n",
    "| MAR               | 10             |         0.14 |\n",
    "| MAR               | 20             |         0.17 |\n",
    "| MAR               | 30             |        +0.01 |\n",
    "| MNAR              | 24.90          |         0.00 |"
   ]
  },
  {
   "cell_type": "markdown",
   "metadata": {},
   "source": [
    "Table 6 - Overall Model Performance for Each Missing Data Type and Percentage of Missing Data. A + sign indicates it performed better than the baseline"
   ]
  },
  {
   "cell_type": "markdown",
   "metadata": {},
   "source": [
    "# Discussion\n",
    "\n",
    "Our results revealed that imputing the remaining mean on columns is a very sound approach when building a machine learning model. The only instance where it is somewhat concerning is when data is missing at random (MAR). This happened when we deleted 10-20% of our data when AGE was greater than or equal to 80 (greater than 80% of the homes were built before 1940) and our RMSE increased the most. However, this was all but eliminated when we imputed 30%. This could be due to the random_state seed which randomly selected rows to delete with the least important values for the linear regression model. Re-doing the analysis with cross-validation and averaging the RMSE and noting the standard deviation could remedy this anomaly.\n",
    "\n",
    "Further analysis can be conducted on columns with more variabilty to find if that effects the accuracy of a model. With a variable like AGE that has a range of 0-100 we could find variables that are not ratios that increase the dynamic range of values. Also we can check if larger data sets invalidate our findings as well since this Boston Housing data set only contains 506 instances.\n",
    "\n",
    "Overall we found that imputation of data can maintain a very accurate model when compared to a clean dataset. When conducting imputation on actual data sets it must be noted as to how many values of what variables are missing and how the imputation was carried out (mean, median, or even building a model to impute values)."
   ]
  },
  {
   "cell_type": "markdown",
   "metadata": {},
   "source": [
    "# Supplemental Code"
   ]
  },
  {
   "cell_type": "code",
   "execution_count": 1,
   "metadata": {},
   "outputs": [],
   "source": [
    "import warnings\n",
    "warnings.filterwarnings(\"ignore\")\n",
    "\n",
    "import numpy as np\n",
    "import matplotlib.pyplot as plt\n",
    "import pandas as pd  \n",
    "import seaborn as sns\n",
    "\n",
    "from sklearn import datasets\n",
    "from sklearn.linear_model import LinearRegression\n",
    "from sklearn.model_selection import train_test_split\n",
    "from sklearn.metrics import mean_squared_error, mean_absolute_error\n",
    "\n",
    "%matplotlib inline\n",
    "\n",
    "#Function for Root mean squared error\n",
    "#https://stackoverflow.com/questions/17197492/root-mean-square-error-in-python\n",
    "def rmse(y_actual, y_predicted):\n",
    "    return np.sqrt(mean_squared_error(y_actual, y_predicted))\n",
    "\n",
    "\n",
    "def plotMCAR():\n",
    "    percentage = [1,5,10,20,33,50]\n",
    "    plt.plot(percentage, mcarValues)\n",
    "    plt.axhline(baselineScore, color='r')\n",
    "    plt.title(\"Model Performance with MCAR Data\")\n",
    "    plt.xlabel(\"Percentage of Missing Data Imputed (%)\")\n",
    "    plt.ylabel(\"RMSE Score\")\n",
    "\n",
    "\n",
    "def plotMAR():\n",
    "    percentage = [10, 20, 30]\n",
    "    plt.plot(percentage, marValues)\n",
    "    plt.axhline(baselineScore, color='r')\n",
    "    plt.title(\"Model Performance with MAR Data\")\n",
    "    plt.xlabel(\"Percentage of Missing Data Imputed (%)\")\n",
    "    plt.ylabel(\"RMSE Score\")\n",
    "\n",
    "\n",
    "def plotMNAR():\n",
    "    percentage = 24.9\n",
    "    plt.plot(percentage, mnarValue, marker='x')\n",
    "    plt.axhline(baselineScore, color='r')\n",
    "    plt.title(\"Model Performance for MNAR Data\")\n",
    "    plt.xlabel(\"Percentage of Missing Data Imputed (%)\")\n",
    "    plt.ylabel(\"RMSE Score\")\n",
    "\n",
    "    \n",
    "boston = datasets.load_boston() #Load the boston dataset."
   ]
  },
  {
   "cell_type": "code",
   "execution_count": 2,
   "metadata": {},
   "outputs": [
    {
     "name": "stdout",
     "output_type": "stream",
     "text": [
      "The base model performance for training set\n",
      "--------------------------------------\n",
      "RMSE is 4.663552600421209\n",
      "\n",
      "\n",
      "The base model performance for testing set\n",
      "--------------------------------------\n",
      "RMSE is 4.865643271113772\n"
     ]
    }
   ],
   "source": [
    "####################################################\n",
    "################## baseline model ##################\n",
    "####################################################\n",
    "\n",
    "# Create feature matrix\n",
    "X = boston.data\n",
    "\n",
    "# Create target vector\n",
    "y = boston.target\n",
    "\n",
    "#credit: https://towardsdatascience.com/linear-regression-on-boston-housing-dataset-f409b7e4a155\n",
    "X_train, X_test, y_train, y_test = train_test_split(X, y, test_size = 0.2, random_state=24)\n",
    "\n",
    "lin_model = LinearRegression()\n",
    "lin_model.fit(X_train, y_train)\n",
    "\n",
    "# model evaluation for training set\n",
    "y_train_predict = lin_model.predict(X_train)\n",
    "rmseTrainScore = rmse(y_train, y_train_predict)\n",
    "\n",
    "print(\"The base model performance for training set\")\n",
    "print(\"--------------------------------------\")\n",
    "print('RMSE is {}'.format(rmseTrainScore))\n",
    "print(\"\\n\")\n",
    "\n",
    "# model evaluation for testing set\n",
    "y_test_predict = lin_model.predict(X_test)\n",
    "rmseTestScore = rmse(y_test, y_test_predict)\n",
    "\n",
    "print(\"The base model performance for testing set\")\n",
    "print(\"--------------------------------------\")\n",
    "print('RMSE is {}'.format(rmseTestScore))\n",
    "\n",
    "baselineScore = rmseTestScore"
   ]
  },
  {
   "cell_type": "code",
   "execution_count": 10,
   "metadata": {},
   "outputs": [
    {
     "data": {
      "text/html": [
       "<div>\n",
       "<style scoped>\n",
       "    .dataframe tbody tr th:only-of-type {\n",
       "        vertical-align: middle;\n",
       "    }\n",
       "\n",
       "    .dataframe tbody tr th {\n",
       "        vertical-align: top;\n",
       "    }\n",
       "\n",
       "    .dataframe thead th {\n",
       "        text-align: right;\n",
       "    }\n",
       "</style>\n",
       "<table border=\"1\" class=\"dataframe\">\n",
       "  <thead>\n",
       "    <tr style=\"text-align: right;\">\n",
       "      <th></th>\n",
       "      <th>CRIM</th>\n",
       "      <th>ZN</th>\n",
       "      <th>INDUS</th>\n",
       "      <th>CHAS</th>\n",
       "      <th>NOX</th>\n",
       "      <th>RM</th>\n",
       "      <th>AGE</th>\n",
       "      <th>DIS</th>\n",
       "      <th>RAD</th>\n",
       "      <th>TAX</th>\n",
       "      <th>PTRATIO</th>\n",
       "      <th>B</th>\n",
       "      <th>LSTAT</th>\n",
       "    </tr>\n",
       "  </thead>\n",
       "  <tbody>\n",
       "    <tr>\n",
       "      <th>0</th>\n",
       "      <td>0.00632</td>\n",
       "      <td>18.0</td>\n",
       "      <td>2.31</td>\n",
       "      <td>0.0</td>\n",
       "      <td>0.538</td>\n",
       "      <td>6.575</td>\n",
       "      <td>65.2</td>\n",
       "      <td>4.0900</td>\n",
       "      <td>1.0</td>\n",
       "      <td>296.0</td>\n",
       "      <td>15.3</td>\n",
       "      <td>396.90</td>\n",
       "      <td>4.98</td>\n",
       "    </tr>\n",
       "    <tr>\n",
       "      <th>1</th>\n",
       "      <td>0.02731</td>\n",
       "      <td>0.0</td>\n",
       "      <td>7.07</td>\n",
       "      <td>0.0</td>\n",
       "      <td>0.469</td>\n",
       "      <td>6.421</td>\n",
       "      <td>78.9</td>\n",
       "      <td>4.9671</td>\n",
       "      <td>2.0</td>\n",
       "      <td>242.0</td>\n",
       "      <td>17.8</td>\n",
       "      <td>396.90</td>\n",
       "      <td>9.14</td>\n",
       "    </tr>\n",
       "    <tr>\n",
       "      <th>2</th>\n",
       "      <td>0.02729</td>\n",
       "      <td>0.0</td>\n",
       "      <td>7.07</td>\n",
       "      <td>0.0</td>\n",
       "      <td>0.469</td>\n",
       "      <td>7.185</td>\n",
       "      <td>61.1</td>\n",
       "      <td>4.9671</td>\n",
       "      <td>2.0</td>\n",
       "      <td>242.0</td>\n",
       "      <td>17.8</td>\n",
       "      <td>392.83</td>\n",
       "      <td>4.03</td>\n",
       "    </tr>\n",
       "    <tr>\n",
       "      <th>3</th>\n",
       "      <td>0.03237</td>\n",
       "      <td>0.0</td>\n",
       "      <td>2.18</td>\n",
       "      <td>0.0</td>\n",
       "      <td>0.458</td>\n",
       "      <td>6.998</td>\n",
       "      <td>45.8</td>\n",
       "      <td>6.0622</td>\n",
       "      <td>3.0</td>\n",
       "      <td>222.0</td>\n",
       "      <td>18.7</td>\n",
       "      <td>394.63</td>\n",
       "      <td>2.94</td>\n",
       "    </tr>\n",
       "    <tr>\n",
       "      <th>4</th>\n",
       "      <td>0.06905</td>\n",
       "      <td>0.0</td>\n",
       "      <td>2.18</td>\n",
       "      <td>0.0</td>\n",
       "      <td>0.458</td>\n",
       "      <td>7.147</td>\n",
       "      <td>54.2</td>\n",
       "      <td>6.0622</td>\n",
       "      <td>3.0</td>\n",
       "      <td>222.0</td>\n",
       "      <td>18.7</td>\n",
       "      <td>396.90</td>\n",
       "      <td>5.33</td>\n",
       "    </tr>\n",
       "  </tbody>\n",
       "</table>\n",
       "</div>"
      ],
      "text/plain": [
       "      CRIM    ZN  INDUS  CHAS    NOX     RM   AGE     DIS  RAD    TAX  \\\n",
       "0  0.00632  18.0   2.31   0.0  0.538  6.575  65.2  4.0900  1.0  296.0   \n",
       "1  0.02731   0.0   7.07   0.0  0.469  6.421  78.9  4.9671  2.0  242.0   \n",
       "2  0.02729   0.0   7.07   0.0  0.469  7.185  61.1  4.9671  2.0  242.0   \n",
       "3  0.03237   0.0   2.18   0.0  0.458  6.998  45.8  6.0622  3.0  222.0   \n",
       "4  0.06905   0.0   2.18   0.0  0.458  7.147  54.2  6.0622  3.0  222.0   \n",
       "\n",
       "   PTRATIO       B  LSTAT  \n",
       "0     15.3  396.90   4.98  \n",
       "1     17.8  396.90   9.14  \n",
       "2     17.8  392.83   4.03  \n",
       "3     18.7  394.63   2.94  \n",
       "4     18.7  396.90   5.33  "
      ]
     },
     "execution_count": 10,
     "metadata": {},
     "output_type": "execute_result"
    }
   ],
   "source": [
    "dfBoston = pd.DataFrame(boston.data, columns=boston.feature_names)\n",
    "dfBoston.head()"
   ]
  },
  {
   "cell_type": "code",
   "execution_count": 11,
   "metadata": {},
   "outputs": [
    {
     "data": {
      "text/plain": [
       "CRIM       0\n",
       "ZN         0\n",
       "INDUS      0\n",
       "CHAS       0\n",
       "NOX        0\n",
       "RM         0\n",
       "AGE        0\n",
       "DIS        0\n",
       "RAD        0\n",
       "TAX        0\n",
       "PTRATIO    0\n",
       "B          0\n",
       "LSTAT      0\n",
       "dtype: int64"
      ]
     },
     "execution_count": 11,
     "metadata": {},
     "output_type": "execute_result"
    }
   ],
   "source": [
    "dfBoston.isnull().sum()"
   ]
  },
  {
   "cell_type": "code",
   "execution_count": 12,
   "metadata": {},
   "outputs": [
    {
     "data": {
      "text/plain": [
       "count    506.000000\n",
       "mean      68.574901\n",
       "std       28.148861\n",
       "min        2.900000\n",
       "25%       45.025000\n",
       "50%       77.500000\n",
       "75%       94.075000\n",
       "max      100.000000\n",
       "Name: AGE, dtype: float64"
      ]
     },
     "execution_count": 12,
     "metadata": {},
     "output_type": "execute_result"
    }
   ],
   "source": [
    "dfBoston['AGE'].describe()"
   ]
  },
  {
   "cell_type": "code",
   "execution_count": 13,
   "metadata": {},
   "outputs": [
    {
     "data": {
      "image/png": "[encoded data removed]",
      "text/plain": [
       "<Figure size 432x288 with 1 Axes>"
      ]
     },
     "metadata": {},
     "output_type": "display_data"
    }
   ],
   "source": [
    "sns.set(color_codes=True)\n",
    "sns.distplot(dfBoston['AGE']);"
   ]
  },
  {
   "cell_type": "code",
   "execution_count": 14,
   "metadata": {},
   "outputs": [
    {
     "name": "stdout",
     "output_type": "stream",
     "text": [
      "Number of values deleted and imputed with the remaining mean: 5\n",
      "1.0 % data mean imputed model training set RMSE = 4.663552600421209\n",
      "1.0 % data mean imputed model testing set RMSE = 4.855698324399173\n",
      "\n",
      "Number of values deleted and imputed with the remaining mean: 25\n",
      "5.0 % data mean imputed model training set RMSE = 4.663552600421209\n",
      "5.0 % data mean imputed model testing set RMSE = 4.851300492192213\n",
      "\n",
      "Number of values deleted and imputed with the remaining mean: 51\n",
      "10.0 % data mean imputed model training set RMSE = 4.663552600421209\n",
      "10.0 % data mean imputed model testing set RMSE = 4.851033284445093\n",
      "\n",
      "Number of values deleted and imputed with the remaining mean: 101\n",
      "20.0 % data mean imputed model training set RMSE = 4.663552600421209\n",
      "20.0 % data mean imputed model testing set RMSE = 4.860150515396506\n",
      "\n",
      "Number of values deleted and imputed with the remaining mean: 167\n",
      "33.0 % data mean imputed model training set RMSE = 4.664511237375923\n",
      "33.0 % data mean imputed model testing set RMSE = 4.855319709719599\n",
      "\n",
      "Number of values deleted and imputed with the remaining mean: 253\n",
      "50.0 % data mean imputed model training set RMSE = 4.664380312182657\n",
      "50.0 % data mean imputed model testing set RMSE = 4.85354119160504\n",
      "\n"
     ]
    }
   ],
   "source": [
    "####################################################\n",
    "########## completely at random models #############\n",
    "####################################################\n",
    "\n",
    "y = boston.target\n",
    "lin_model = LinearRegression()\n",
    "percentages = [0.01, 0.05, 0.10, 0.20, 0.33, 0.50] #percent of data we'll delete and impute\n",
    "mcarValues = []\n",
    "\n",
    "for percent in percentages:\n",
    "    dfBostonStep2 = pd.DataFrame(boston.data, columns=boston.feature_names) #make data a dataframe\n",
    "    series = dfBostonStep2['AGE'].sample(frac=percent, random_state=24) #randomly sample % of values in AGE column (forms a Series)\n",
    "    for i in series.index:\n",
    "        dfBostonStep2.iloc[i, 6] = np.nan #take those sampled values and make them NaN's\n",
    "    print(\"Number of values deleted and imputed with the remaining mean:\", dfBostonStep2['AGE'].isnull().sum())\n",
    "    meanAge = dfBostonStep2['AGE'].mean() #now take mean of AGE with NaN's in the data\n",
    "    dfBostonStep2 = dfBostonStep2.fillna(value=meanAge) #fill the NaN values with the mean age just computed\n",
    "\n",
    "    X = dfBostonStep2\n",
    "    \n",
    "    X_train, X_test, y_train, y_test = train_test_split(X, y, test_size = 0.2, random_state=24)\n",
    "\n",
    "    lin_model.fit(X_train, y_train)\n",
    "\n",
    "    # model evaluation for training set\n",
    "    y_train_predict = lin_model.predict(X_train)\n",
    "    rmseTrainScore = rmse(y_train, y_train_predict)\n",
    "\n",
    "    print(percent*100, \"% data mean imputed model training set RMSE =\", rmseTrainScore)\n",
    "\n",
    "    # model evaluation for testing set\n",
    "    y_test_predict = lin_model.predict(X_test)\n",
    "    rmseTestScore = rmse(y_test, y_test_predict)\n",
    "\n",
    "    print(percent*100, \"% data mean imputed model testing set RMSE =\", rmseTestScore)\n",
    "    print('')\n",
    "    \n",
    "    mcarValues.append(rmseTestScore)"
   ]
  },
  {
   "cell_type": "code",
   "execution_count": 15,
   "metadata": {},
   "outputs": [
    {
     "name": "stdout",
     "output_type": "stream",
     "text": [
      "Number of CRIME values deleted and imputed with the remaining mean: 24\n",
      "Number of TAX values deleted and imputed with the remaining mean: 24\n",
      "10.0 % data mean imputed model for CRIME and TAX when AGE > 80 training set RMSE = 4.681155351947343\n",
      "10.0 % data mean imputed model for CRIME and TAX when AGE > 80 testing set RMSE = 5.005048107905356\n",
      "\n",
      "Number of CRIME values deleted and imputed with the remaining mean: 48\n",
      "Number of TAX values deleted and imputed with the remaining mean: 48\n",
      "20.0 % data mean imputed model for CRIME and TAX when AGE > 80 training set RMSE = 4.702161449487494\n",
      "20.0 % data mean imputed model for CRIME and TAX when AGE > 80 testing set RMSE = 5.038785279333027\n",
      "\n",
      "Number of CRIME values deleted and imputed with the remaining mean: 72\n",
      "Number of TAX values deleted and imputed with the remaining mean: 72\n",
      "30.0 % data mean imputed model for CRIME and TAX when AGE > 80 training set RMSE = 4.703744355268438\n",
      "30.0 % data mean imputed model for CRIME and TAX when AGE > 80 testing set RMSE = 4.879376749929007\n",
      "\n"
     ]
    }
   ],
   "source": [
    "####################################################\n",
    "########### missing at random model ################\n",
    "####################################################\n",
    "\n",
    "boston = datasets.load_boston() #Load the boston dataset.\n",
    "dfBostonStep3 = pd.DataFrame(boston.data, columns=boston.feature_names)\n",
    "\n",
    "percentages = [0.10, 0.20, 0.30]\n",
    "marValues = []\n",
    "\n",
    "for percent in percentages:\n",
    "    indicesCrimeDeletion = dfBostonStep3[dfBostonStep3['AGE'] >= 80].sample(frac=percent, random_state=42).index\n",
    "    indicesTaxDeletion = dfBostonStep3[dfBostonStep3['AGE'] >= 80].sample(frac=percent, random_state=6).index\n",
    "    for i in indicesCrimeDeletion:\n",
    "        dfBostonStep3.iloc[i, 0] = np.nan #crime column\n",
    "    for i in indicesTaxDeletion:\n",
    "        dfBostonStep3.iloc[i, 9] = np.nan #tax column\n",
    "    print(\"Number of CRIME values deleted and imputed with the remaining mean:\", dfBostonStep3['CRIM'].isnull().sum())\n",
    "    print(\"Number of TAX values deleted and imputed with the remaining mean:\", dfBostonStep3['TAX'].isnull().sum())\n",
    "    meanCrime = dfBostonStep3['CRIM'].mean() #now take mean of Crime with NaN's in the data\n",
    "    meanTax = dfBostonStep3['TAX'].mean() #now take mean of Crime with NaN's in the data\n",
    "    \n",
    "    dfBostonStep3['CRIM'] = dfBostonStep3['CRIM'].fillna(value=meanCrime) #fill the NaN values with the mean crime just computed\n",
    "    dfBostonStep3['TAX'] = dfBostonStep3['TAX'].fillna(value=meanTax) #and for the tax's\n",
    "    \n",
    "    X = dfBostonStep3\n",
    "    \n",
    "    X_train, X_test, y_train, y_test = train_test_split(X, y, test_size = 0.2, random_state=24)\n",
    "\n",
    "    lin_model.fit(X_train, y_train)\n",
    "\n",
    "    # model evaluation for training set\n",
    "    y_train_predict = lin_model.predict(X_train)\n",
    "    rmseTrainScore = rmse(y_train, y_train_predict)\n",
    "\n",
    "    print(percent*100, \"% data mean imputed model for CRIME and TAX when AGE > 80 training set RMSE =\", rmseTrainScore)\n",
    "\n",
    "    # model evaluation for testing set\n",
    "    y_test_predict = lin_model.predict(X_test)\n",
    "    rmseTestScore = rmse(y_test, y_test_predict)\n",
    "\n",
    "    print(percent*100, \"% data mean imputed model for CRIME and TAX when AGE > 80 testing set RMSE =\", rmseTestScore)\n",
    "    print('')\n",
    "    \n",
    "    marValues.append(rmseTestScore)"
   ]
  },
  {
   "cell_type": "code",
   "execution_count": 16,
   "metadata": {},
   "outputs": [
    {
     "name": "stdout",
     "output_type": "stream",
     "text": [
      "Number of values deleted and imputed with the remaining mean: 126\n",
      "24.90118577075099 % data mean imputed model training set RMSE = 4.663133884877101\n",
      "24.90118577075099 % data mean imputed model testing set RMSE = 4.8685678116858435\n",
      "\n"
     ]
    }
   ],
   "source": [
    "####################################################\n",
    "########## missing not at random model #############\n",
    "####################################################\n",
    "\n",
    "from numpy import percentile\n",
    "\n",
    "boston = datasets.load_boston() #Load the boston dataset.\n",
    "dfBostonStep4 = pd.DataFrame(boston.data, columns=boston.feature_names)\n",
    "lin_model = LinearRegression()\n",
    "\n",
    "age25thPercentile = percentile(dfBostonStep4['AGE'], 25) #get 25th percentile (Q1) value of AGE\n",
    "age50thPercentile = percentile(dfBostonStep4['AGE'], 50) #get 50th percentile (median, Q2) value of AGE\n",
    "\n",
    "indices4 = dfBostonStep4[(dfBostonStep4['AGE'] >= age25thPercentile) & (dfBostonStep4['AGE'] <= age50thPercentile)].index\n",
    "for i in indices4:\n",
    "    dfBostonStep4.iloc[i, 6] = np.nan #take those sampled values and make them NaN's\n",
    "print(\"Number of values deleted and imputed with the remaining mean:\", dfBostonStep4['AGE'].isnull().sum())\n",
    "\n",
    "meanAge = dfBostonStep4['AGE'].mean() #now take mean of AGE with NaN's in the data\n",
    "dfBostonStep4 = dfBostonStep4.fillna(value=meanAge) #fill the NaN values with the mean age just computed\n",
    "\n",
    "X = dfBostonStep4\n",
    "y = boston.target\n",
    "\n",
    "X_train, X_test, y_train, y_test = train_test_split(X, y, test_size = 0.2, random_state=24)\n",
    "\n",
    "lin_model.fit(X_train, y_train)\n",
    "\n",
    "# model evaluation for training set\n",
    "y_train_predict = lin_model.predict(X_train)\n",
    "rmseTrainScore = rmse(y_train, y_train_predict)\n",
    "\n",
    "print(100*len(indices4)/len(dfBostonStep4), \"% data mean imputed model training set RMSE =\", rmseTrainScore)\n",
    "\n",
    "# model evaluation for testing set\n",
    "y_test_predict = lin_model.predict(X_test)\n",
    "rmseTestScore = rmse(y_test, y_test_predict)\n",
    "\n",
    "print(100*len(indices4)/len(dfBostonStep4), \"% data mean imputed model testing set RMSE =\", rmseTestScore)\n",
    "print('')\n",
    "\n",
    "mnarValue = rmseTestScore"
   ]
  },
  {
   "cell_type": "markdown",
   "metadata": {},
   "source": [
    "# Credit\n",
    "\n",
    "- Lecture and Slides by Prof. Slater (03/07/2019)\n",
    "- https://www.statisticssolutions.com/handling-missing-data-listwise-versus-pairwise-deletion/\n",
    "- https://stats.stackexchange.com/questions/307339/hot-deck-imputation-it-preserves-the-distribution-of-the-item-values-how-c\n",
    "- https://www.theanalysisfactor.com/seven-ways-to-make-up-data-common-methods-to-imputing-missing-data/\n",
    "- https://medium.com/human-in-a-machine-world/mae-and-rmse-which-metric-is-better-e60ac3bde13d\n",
    "- https://math.meta.stackexchange.com/questions/5020/mathjax-basic-tutorial-and-quick-reference"
   ]
  },
  {
   "cell_type": "code",
   "execution_count": null,
   "metadata": {},
   "outputs": [],
   "source": []
  }
 ],
 "metadata": {
  "kernelspec": {
   "display_name": "Python 3",
   "language": "python",
   "name": "python3"
  },
  "language_info": {
   "codemirror_mode": {
    "name": "ipython",
    "version": 3
   },
   "file_extension": ".py",
   "mimetype": "text/x-python",
   "name": "python",
   "nbconvert_exporter": "python",
   "pygments_lexer": "ipython3",
   "version": "3.6.7"
  }
 },
 "nbformat": 4,
 "nbformat_minor": 2
}
